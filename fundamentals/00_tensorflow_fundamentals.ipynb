{
 "cells": [
  {
   "cell_type": "markdown",
   "id": "d6911b75-d7d3-4760-adde-4b9d5b54a52b",
   "metadata": {
    "jp-MarkdownHeadingCollapsed": true
   },
   "source": [
    "# In this notebook we are going to cover some of the most fundamental concepts of tensors using TensorFlow. \n",
    "\n",
    "More specifically we are going to cover :\n",
    "- Introduction to tensors\n",
    "- Getting information from tensors\n",
    "- Manipulating tensors\n",
    "- Tensors and numpy\n",
    "- Using @tf.function(a way to speed up your regular python functions)\n",
    "- Using GPUs with TensorFlow (or TPUs)\n",
    "- Exercises to try for yourself!\n",
    "  "
   ]
  },
  {
   "cell_type": "markdown",
   "id": "19657901-fe27-495c-a74f-3639a92fb15b",
   "metadata": {},
   "source": [
    "### Introduction to Tensors"
   ]
  },
  {
   "cell_type": "code",
   "execution_count": 2,
   "id": "5cebcf95-bbb1-48b3-a586-030415764bf4",
   "metadata": {},
   "outputs": [
    {
     "name": "stdout",
     "output_type": "stream",
     "text": [
      "2.13.0\n"
     ]
    }
   ],
   "source": [
    "# Import Tensorflow\n",
    "import tensorflow as tf\n",
    "print(tf.__version__)"
   ]
  },
  {
   "cell_type": "code",
   "execution_count": 3,
   "id": "5589fffa-e56b-4e0d-bb09-b47bbed87697",
   "metadata": {},
   "outputs": [
    {
     "name": "stderr",
     "output_type": "stream",
     "text": [
      "2023-09-09 09:37:32.510843: I tensorflow/core/common_runtime/process_util.cc:146] Creating new thread pool with default inter op setting: 2. Tune using inter_op_parallelism_threads for best performance.\n"
     ]
    },
    {
     "data": {
      "text/plain": [
       "<tf.Tensor: shape=(), dtype=int32, numpy=7>"
      ]
     },
     "execution_count": 3,
     "metadata": {},
     "output_type": "execute_result"
    }
   ],
   "source": [
    "# Create tensors with tf.constant()\n",
    "scalar = tf.constant(7)\n",
    "scalar"
   ]
  },
  {
   "cell_type": "code",
   "execution_count": 4,
   "id": "c7938651-40a0-445c-b173-acfe4859043b",
   "metadata": {},
   "outputs": [
    {
     "data": {
      "text/plain": [
       "0"
      ]
     },
     "execution_count": 4,
     "metadata": {},
     "output_type": "execute_result"
    }
   ],
   "source": [
    "# Check the number of dimensions of a tensor(ndim stands for number of dimensions)\n",
    "scalar.ndim"
   ]
  },
  {
   "cell_type": "code",
   "execution_count": 5,
   "id": "67042989-beec-4fdf-9865-c794daa51651",
   "metadata": {},
   "outputs": [
    {
     "data": {
      "text/plain": [
       "<tf.Tensor: shape=(2,), dtype=int32, numpy=array([10, 10], dtype=int32)>"
      ]
     },
     "execution_count": 5,
     "metadata": {},
     "output_type": "execute_result"
    }
   ],
   "source": [
    "# Create a vector\n",
    "vector = tf.constant([10, 10])\n",
    "vector\n"
   ]
  },
  {
   "cell_type": "code",
   "execution_count": 6,
   "id": "3e56f5d4-ac2c-4ce8-a3d1-e733b8001f44",
   "metadata": {},
   "outputs": [
    {
     "data": {
      "text/plain": [
       "1"
      ]
     },
     "execution_count": 6,
     "metadata": {},
     "output_type": "execute_result"
    }
   ],
   "source": [
    "# Check the dimension of our vector\n",
    "vector.ndim"
   ]
  },
  {
   "cell_type": "code",
   "execution_count": 7,
   "id": "be2fc280-d678-47d0-8676-7e527e7deb7a",
   "metadata": {},
   "outputs": [
    {
     "data": {
      "text/plain": [
       "<tf.Tensor: shape=(2, 2), dtype=int32, numpy=\n",
       "array([[10,  7],\n",
       "       [ 7, 10]], dtype=int32)>"
      ]
     },
     "execution_count": 7,
     "metadata": {},
     "output_type": "execute_result"
    }
   ],
   "source": [
    "# Create a matrix (has more than 1 dimension)\n",
    "matrix = tf.constant([[10, 7],\n",
    "                    [7, 10]])\n",
    "matrix"
   ]
  },
  {
   "cell_type": "code",
   "execution_count": 8,
   "id": "5b565e91-a805-4808-b78c-f85c0f031a05",
   "metadata": {},
   "outputs": [
    {
     "data": {
      "text/plain": [
       "2"
      ]
     },
     "execution_count": 8,
     "metadata": {},
     "output_type": "execute_result"
    }
   ],
   "source": [
    "# Checking the dimension of matrix\n",
    "matrix.ndim"
   ]
  },
  {
   "cell_type": "code",
   "execution_count": 9,
   "id": "e3061e01-82f0-48e9-8843-6837cab0213a",
   "metadata": {},
   "outputs": [
    {
     "data": {
      "text/plain": [
       "<tf.Tensor: shape=(3, 2), dtype=float16, numpy=\n",
       "array([[10.,  7.],\n",
       "       [ 3.,  2.],\n",
       "       [ 9.,  8.]], dtype=float16)>"
      ]
     },
     "execution_count": 9,
     "metadata": {},
     "output_type": "execute_result"
    }
   ],
   "source": [
    "# Create another matrix\n",
    "another_matrix = tf.constant([[10., 7.,],\n",
    "                             [3., 2.],\n",
    "                             [9., 8.]], dtype=tf.float16) # Specific datatype with dtype parameter\n",
    "\n",
    "another_matrix"
   ]
  },
  {
   "cell_type": "code",
   "execution_count": 10,
   "id": "bc2f32b9-ff79-44ab-b441-1a0e9a83c17b",
   "metadata": {},
   "outputs": [
    {
     "data": {
      "text/plain": [
       "2"
      ]
     },
     "execution_count": 10,
     "metadata": {},
     "output_type": "execute_result"
    }
   ],
   "source": [
    "# What is the number of dimensions of another_matrix ?\n",
    "another_matrix.ndim"
   ]
  },
  {
   "cell_type": "code",
   "execution_count": 11,
   "id": "632ca1ef-5c5e-409a-b11b-fb46a39ed82a",
   "metadata": {},
   "outputs": [
    {
     "data": {
      "text/plain": [
       "<tf.Tensor: shape=(3, 2, 3), dtype=int32, numpy=\n",
       "array([[[ 1,  2,  3],\n",
       "        [ 4,  5,  6]],\n",
       "\n",
       "       [[ 7,  8,  9],\n",
       "        [10, 11, 12]],\n",
       "\n",
       "       [[13, 14, 15],\n",
       "        [16, 17, 18]]], dtype=int32)>"
      ]
     },
     "execution_count": 11,
     "metadata": {},
     "output_type": "execute_result"
    }
   ],
   "source": [
    "# Let's create a tensor\n",
    "tensor = tf.constant([[[1, 2, 3],\n",
    "                      [4, 5, 6]],\n",
    "                     [[7, 8, 9],\n",
    "                     [10, 11, 12]],\n",
    "                      [[13, 14, 15],\n",
    "                      [16, 17, 18]]])\n",
    "tensor"
   ]
  },
  {
   "cell_type": "code",
   "execution_count": 12,
   "id": "873bf416-6c21-44c4-a42d-70494ca47919",
   "metadata": {},
   "outputs": [
    {
     "data": {
      "text/plain": [
       "3"
      ]
     },
     "execution_count": 12,
     "metadata": {},
     "output_type": "execute_result"
    }
   ],
   "source": [
    "tensor.ndim"
   ]
  },
  {
   "cell_type": "markdown",
   "id": "368d78ac-d5a8-4ff6-bd76-75b73cf19226",
   "metadata": {},
   "source": [
    "What we have created so far:\n",
    "* Scalar: a single number\n",
    "* Vector: a number with direction (e.g. wind speed and direction)\n",
    "* Matrix: a 2-dimensional array of numbers\n",
    "* Tensor: an n-dimensional array of numbers (when n can be any number, a 0-dimensional tensor is a scalar and a 1-dimensional tensor is a vector)"
   ]
  },
  {
   "cell_type": "markdown",
   "id": "650487ed-c2fd-4419-ba95-6a273b555463",
   "metadata": {},
   "source": [
    "### Creating tensors with `tf.Variable()`"
   ]
  },
  {
   "cell_type": "code",
   "execution_count": 13,
   "id": "62a5af24-cbca-4303-8da4-e3e0c9dc05aa",
   "metadata": {},
   "outputs": [
    {
     "data": {
      "text/plain": [
       "(<tf.Variable 'Variable:0' shape=(2,) dtype=int32, numpy=array([10,  7], dtype=int32)>,\n",
       " <tf.Tensor: shape=(2,), dtype=int32, numpy=array([10,  7], dtype=int32)>)"
      ]
     },
     "execution_count": 13,
     "metadata": {},
     "output_type": "execute_result"
    }
   ],
   "source": [
    "# Create the same tensor with tf.Variable() as above\n",
    "changeable_tensor = tf.Variable([10, 7])\n",
    "unchangeable_tensor = tf.constant([10, 7])\n",
    "changeable_tensor, unchangeable_tensor"
   ]
  },
  {
   "cell_type": "code",
   "execution_count": 14,
   "id": "fceb98c6-bf87-4800-908c-b0c7777b3aa8",
   "metadata": {},
   "outputs": [
    {
     "ename": "TypeError",
     "evalue": "'ResourceVariable' object does not support item assignment",
     "output_type": "error",
     "traceback": [
      "\u001b[0;31m---------------------------------------------------------------------------\u001b[0m",
      "\u001b[0;31mTypeError\u001b[0m                                 Traceback (most recent call last)",
      "Cell \u001b[0;32mIn[14], line 2\u001b[0m\n\u001b[1;32m      1\u001b[0m \u001b[38;5;66;03m# Let's try change one of the elememts in our changeable tensor\u001b[39;00m\n\u001b[0;32m----> 2\u001b[0m \u001b[43mchangeable_tensor\u001b[49m\u001b[43m[\u001b[49m\u001b[38;5;241;43m0\u001b[39;49m\u001b[43m]\u001b[49m \u001b[38;5;241m=\u001b[39m \u001b[38;5;241m7\u001b[39m  \u001b[38;5;66;03m# Does not work\u001b[39;00m\n",
      "\u001b[0;31mTypeError\u001b[0m: 'ResourceVariable' object does not support item assignment"
     ]
    }
   ],
   "source": [
    "# Let's try change one of the elememts in our changeable tensor\n",
    "changeable_tensor[0] = 7  # Does not work"
   ]
  },
  {
   "cell_type": "code",
   "execution_count": null,
   "id": "ee2345a3-db4d-4125-a2fe-f14fcc0be93c",
   "metadata": {},
   "outputs": [],
   "source": [
    "# How about we try .assign()\n",
    "changeable_tensor[0].assign(7)\n",
    "changeable_tensor  # changes from [10, 7] --> [7, 7]"
   ]
  },
  {
   "cell_type": "code",
   "execution_count": null,
   "id": "cb7bd3c4-494e-484d-b36a-c4bc5179b871",
   "metadata": {},
   "outputs": [],
   "source": [
    "# Let's try to change our unchangeable tensor\n",
    "unchangeable_tensor[0].assign(7)\n",
    "unchangeable_tensor  # Does not work"
   ]
  },
  {
   "cell_type": "markdown",
   "id": "b564515a-8fca-41ac-8079-c1dd53f77304",
   "metadata": {},
   "source": [
    "**Note:** Rarely in practice will you need to decide whether to use `tf.constant` or `tf.Variable` to create tensors, as TensorFlow does this for you. However, if in doubt, `tf.constant` and change it later if needed\n",
    "\n",
    "### Create random tensors\n",
    "Random tensors are tensors or some arbitrary size which contain random numbers"
   ]
  },
  {
   "cell_type": "code",
   "execution_count": null,
   "id": "ab0d97b4-f5ef-4f7c-a8ce-0f1d682b8a58",
   "metadata": {},
   "outputs": [],
   "source": [
    "# Create two random (but the same) tensors\n",
    "random_1 = tf.random.Generator.from_seed(43) # set seed for reproducibility\n",
    "random_1 = random_1.normal(shape=(3, 2))\n",
    "random_2 = tf.random.Generator.from_seed(43) # set seed for reproducibility\n",
    "random_2 = random_2.normal(shape=(3, 2))\n",
    "\n",
    "# Checking if both of them are equal\n",
    "random_1, random_2, random_1 == random_2\n",
    "\n",
    "# Interestingly the last comparison also returns a tensor of the type bool which\n",
    "# compares every single element of each of the tensors and get "
   ]
  },
  {
   "cell_type": "markdown",
   "id": "cbce7099-42e6-4013-9c7d-d9d368518f07",
   "metadata": {},
   "source": [
    "# Shuffling the order of tensors"
   ]
  },
  {
   "cell_type": "code",
   "execution_count": 16,
   "id": "cd5707cc-2518-44c0-8936-e05c69604b13",
   "metadata": {},
   "outputs": [
    {
     "data": {
      "text/plain": [
       "2"
      ]
     },
     "execution_count": 16,
     "metadata": {},
     "output_type": "execute_result"
    }
   ],
   "source": [
    "# Shuffle a tensor \n",
    "# (valuable when you want to shuffle your data so the inherent order does not effect learning)\n",
    "not_shuffled = tf.constant([[10, 7],\n",
    "                           [3, 4],\n",
    "                           [2, 5]])\n",
    "not_shuffled.ndim"
   ]
  },
  {
   "cell_type": "code",
   "execution_count": 17,
   "id": "64ab4a30-24be-4f19-a14c-b54cbcb7fc7a",
   "metadata": {},
   "outputs": [
    {
     "data": {
      "text/plain": [
       "<tf.Tensor: shape=(3, 2), dtype=int32, numpy=\n",
       "array([[10,  7],\n",
       "       [ 3,  4],\n",
       "       [ 2,  5]], dtype=int32)>"
      ]
     },
     "execution_count": 17,
     "metadata": {},
     "output_type": "execute_result"
    }
   ],
   "source": [
    "not_shuffled"
   ]
  },
  {
   "cell_type": "code",
   "execution_count": null,
   "id": "d68f663e-ba5f-4709-ae48-13aeadc2c3b0",
   "metadata": {},
   "outputs": [],
   "source": []
  }
 ],
 "metadata": {
  "kernelspec": {
   "display_name": "Python 3 (ipykernel)",
   "language": "python",
   "name": "python3"
  },
  "language_info": {
   "codemirror_mode": {
    "name": "ipython",
    "version": 3
   },
   "file_extension": ".py",
   "mimetype": "text/x-python",
   "name": "python",
   "nbconvert_exporter": "python",
   "pygments_lexer": "ipython3",
   "version": "3.11.5"
  }
 },
 "nbformat": 4,
 "nbformat_minor": 5
}
